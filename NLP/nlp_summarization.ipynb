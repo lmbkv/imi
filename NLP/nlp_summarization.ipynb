{
 "cells": [
  {
   "cell_type": "code",
   "execution_count": 36,
   "metadata": {},
   "outputs": [],
   "source": [
    "import bs4 as bs  \n",
    "import urllib.request  \n",
    "import re"
   ]
  },
  {
   "cell_type": "code",
   "execution_count": 37,
   "metadata": {},
   "outputs": [],
   "source": [
    "# scraped_data = urllib.request.urlopen('https://en.wikipedia.org/wiki/Artificial_intelligence')  \n",
    "# article = scraped_data.read()\n",
    "\n",
    "# parsed_article = bs.BeautifulSoup(article,'lxml')\n",
    "\n",
    "# paragraphs = parsed_article.find_all('p')\n",
    "\n",
    "# article_text = \"\"\n",
    "\n",
    "# for p in paragraphs:  \n",
    "#     article_text += p.text\n",
    "\n",
    "######################################################### CUSTOM TEXT ############################################\n",
    "article_text = \"\"\" This is my 3rd iPhone after iPhone 4S and iPhone 6S Plus.\n",
    "Being an utter working middle class guy, I don't switch my iPhones very often (my android phones barely lasted me 9 months though). I do consider them extremely expensive, and I wouldn't go for one, unless I felt it was worth the money I was paying for it.\n",
    "\n",
    "Pros:\n",
    "\n",
    "- I got this phone for INR 69,999/- from Amazon. With exchange offer, it cost me a little over 60K. For the price (and that price only), this makes it worth the buy.\n",
    "- It may not be the latest and greatest, but compared to iPhone XR, this is a much better package overall. Considering the XR is now priced higher than X. XS is only marginally better, and didn't feel it was worth the extra 30K.\n",
    "- Even after a year of being on the market, this phone is an absolute beast in terms of performance, especially after iOS 12.\n",
    "- The Camera is a beauty. You can't compare with DSLRs, but it is right up there with OnePlus and Google phones.\n",
    "- Looks exactly like the XS, and doesn't even have the S badging. So no one will be the wiser.\n",
    "\n",
    "Cons:\n",
    "\n",
    "- The delivery was a bit of a hassle. I had opted for One Day Delivery, at my work address. The agent reached at 7:30 in the morning, when I was obviously not at work. He did say he will come later in the afternoon. However, received the phone a day later.\n",
    "- The phone is extremely slippery. Invest in a good case, front screen protector and a rear glass protector\n",
    "- Such expensive phones should come with 128GB of storage as base, instead of 64GB. If you record 4K videos, it will eat up your storage really quickly.\n",
    "- Videos get heavily cropped when watching in full screen mode. If you have the money, go for XS Max.\n",
    "- The battery isn't the best. Takes over two hours to fully charge from 5% to 100% even with the iPad charger. With moderate usage, you can get 8 hours barely.\n",
    "- With the price of the phone, should have at least come with the fast charger in the box.\n",
    "\n",
    "I purchased iphone X on 26th Oct'18 and started using from 28th Oct'18. When i received the product, it was already opened which i informed Amazon representative but i was told that it is original product and it will not have issue. Within two days, it started giving me issue with network & WiFi connectivity. I again contacted Amazon through app but i was directed to Apple support. After talking to Apple representative, i only got indefinite answer like it could be software issue and i should wait till it updates but Amazon return/replace policy valid for only 10 days. After purchasing a phone worth up to 90k, i had to do all this and still no support from Amazon.\n",
    "\n",
    "Thanks to Appario Retail Private Ltd, I got this 256 GB beast during amazon great Indian sale for under 80k. Additionally received cash back of Rs.1000. On delivery, I checked at imei24 and apple site (checkcoverage) for authenticity and warranty of the product. I was satisfied as the product was 100% genuine.\n",
    "iPhone is buttery smooth and the full screen is an awesome experience. Personally, I love the notch as it gives character to the phone. No matter how much you hate the design it seems this is quite an \"IN\" thing now for almost all phone manufacturers have started copying Apple. So all you detractors out there of Apple and the notch - take a chill pill :)!!\n",
    "\n",
    "Pros:\n",
    "1) A11 Bionic Processor is blazing fast and coupled with 3GB ram you will never have any issues with any of the heavy duty tasks you throw at it\n",
    "2) Screen resolution (Super retina HD) and the contrast ratio makes the viewing experience breathtaking\n",
    "3) Got the A1865 model ( iPhone X A1865 uses the Qualcomm MDM9655 Snapdragon X16 LTE modem while the iPhone X A1901 has the Intel XMM 7480 modem) which is better than the A1901 model as A1865 covers more cellular bands (GSM and CDMA networks and frequencies) and the performance of Qualcomm’s chips has always been better than Intel’s. LTE speeds and cellular receptions in case of weak signals also are a shade better than A1901.\n",
    "\n",
    "Cons:\n",
    "1) All glass body makes this susceptible to breakage. So recommend having a case around it (preferably a transparent one so that the beauty of the original phone can still be enjoyed!)\n",
    "2) I have to say that battery life is average - a shade better than iPhone 8.\n",
    "3) Additional touch id support would have been better as an alternative unlocking option\n",
    "\n",
    "Will come up with a detailed review soon in a couple of weeks.\n",
    "\n",
    "I ordered new iPhone X grey on Amazon sale. Phone looks absolutely fine but battery is very weak though it has fast charging option my phone requires 4-5 hours to get charged completely n also my phone is very slow.. feels like I have got a refurbished phone. Guys plz never go for online when u r purchasing costly phones. I have done a mistake u think before doing.\n",
    "\n",
    "What a pleasure to own iphonex. I bought it when it was launched. Checking today ...the price has dropped a 10K. Almost a year since my last upgrade. I do not compare phones. And I DO NOT compare them with Iphones. I think it is undeserving. Just saying. The camera is major on this one. The portrait mode is ace! I have the space grey in 64Gb and that's pretty much all the technical details I need. I'm one of those fortunate buyers who has the dough to spend on Apple products while residing in India so I don't really need to sit and debate with other people about why an X,Y,Z brand is better. I think Apple IS the best. Looks, functionality and everything. It does test the depth of your pockets and I think that's the only mark that there is and therefore it doesn't need comparing with other nondescript ones. I have never had any complains with any of my iphones in the past. This is my fourth upgrade. As a girl , it fulfils on the following categories - Good looks, Good looks & Good Looks. So grateful to Apple. So grateful to Amazon & so grateful to the seller. Thank you.\n",
    "\n",
    "Faulty touchscreen of the device, contacted Amazon customer care for device replacement (as per replacement policy within 7 days against manufacturing defects). But Amazon suggested me to visit the nearest apple service center for repair/replacement as per Apple policy. I have submitted my device on 18.10.2018 to apple care and waiting for their action for repair or replacement.\n",
    "Surprising to know that Amazon maintains this dual policy for mobile devices when it comes to Apple products.\n",
    "Pathetic, now my brand new device is submitted to Apple car and I have to wait for 7 days.\n",
    "Amazon you need to understand that customer satisfaction is of utmost importance, just increase numbers on the sales charts doesnt make you big.\n",
    "\n",
    "\"\"\""
   ]
  },
  {
   "cell_type": "code",
   "execution_count": 38,
   "metadata": {},
   "outputs": [],
   "source": [
    "# Removing Square Brackets and Extra Spaces\n",
    "article_text = re.sub(r'\\[[0-9]*\\]', ' ', article_text)  \n",
    "article_text = re.sub(r'\\s+', ' ', article_text)  "
   ]
  },
  {
   "cell_type": "code",
   "execution_count": 39,
   "metadata": {},
   "outputs": [],
   "source": [
    "# Removing special characters and digits\n",
    "formatted_article_text = re.sub('[^a-zA-Z]', ' ', article_text )  \n",
    "formatted_article_text = re.sub(r'\\s+', ' ', formatted_article_text)  "
   ]
  },
  {
   "cell_type": "code",
   "execution_count": 40,
   "metadata": {},
   "outputs": [
    {
     "name": "stderr",
     "output_type": "stream",
     "text": [
      "[nltk_data] Downloading package punkt to /home/aroun/nltk_data...\n",
      "[nltk_data]   Package punkt is already up-to-date!\n"
     ]
    }
   ],
   "source": [
    "import nltk\n",
    "nltk.download('punkt')\n",
    "sentence_list = nltk.sent_tokenize(article_text)  "
   ]
  },
  {
   "cell_type": "code",
   "execution_count": 41,
   "metadata": {},
   "outputs": [
    {
     "name": "stderr",
     "output_type": "stream",
     "text": [
      "[nltk_data] Downloading package stopwords to /home/aroun/nltk_data...\n",
      "[nltk_data]   Package stopwords is already up-to-date!\n"
     ]
    }
   ],
   "source": [
    "nltk.download('stopwords')\n",
    "\n",
    "stopwords = nltk.corpus.stopwords.words('english')\n",
    "\n",
    "word_frequencies = {}  \n",
    "for word in nltk.word_tokenize(formatted_article_text):  \n",
    "    if word not in stopwords:\n",
    "        if word not in word_frequencies.keys():\n",
    "            word_frequencies[word] = 1\n",
    "        else:\n",
    "            word_frequencies[word] += 1"
   ]
  },
  {
   "cell_type": "code",
   "execution_count": 42,
   "metadata": {},
   "outputs": [],
   "source": [
    "maximum_frequncy = max(word_frequencies.values())\n",
    "\n",
    "for word in word_frequencies.keys():  \n",
    "    word_frequencies[word] = (word_frequencies[word]/maximum_frequncy)"
   ]
  },
  {
   "cell_type": "code",
   "execution_count": 43,
   "metadata": {},
   "outputs": [],
   "source": [
    "sentence_scores = {}  \n",
    "for sent in sentence_list:  \n",
    "    for word in nltk.word_tokenize(sent.lower()):\n",
    "        if word in word_frequencies.keys():\n",
    "            if len(sent.split(' ')) < 30:\n",
    "                if sent not in sentence_scores.keys():\n",
    "                    sentence_scores[sent] = word_frequencies[word]\n",
    "                else:\n",
    "                    sentence_scores[sent] += word_frequencies[word]"
   ]
  },
  {
   "cell_type": "code",
   "execution_count": 44,
   "metadata": {
    "scrolled": true
   },
   "outputs": [
    {
     "name": "stdout",
     "output_type": "stream",
     "text": [
      "Faulty touchscreen of the device, contacted Amazon customer care for device replacement (as per replacement policy within 7 days against manufacturing defects). So recommend having a case around it (preferably a transparent one so that the beauty of the original phone can still be enjoyed!) No matter how much you hate the design it seems this is quite an \"IN\" thing now for almost all phone manufacturers have started copying Apple. Invest in a good case, front screen protector and a rear glass protector - Such expensive phones should come with 128GB of storage as base, instead of 64GB. - With the price of the phone, should have at least come with the fast charger in the box. 3) Additional touch id support would have been better as an alternative unlocking option Will come up with a detailed review soon in a couple of weeks. After purchasing a phone worth up to 90k, i had to do all this and still no support from Amazon.\n"
     ]
    }
   ],
   "source": [
    "import heapq  \n",
    "summary_sentences = heapq.nlargest(7, sentence_scores, key=sentence_scores.get)\n",
    "\n",
    "summary = ' '.join(summary_sentences)  \n",
    "print(summary)  "
   ]
  },
  {
   "cell_type": "code",
   "execution_count": null,
   "metadata": {},
   "outputs": [],
   "source": []
  }
 ],
 "metadata": {
  "kernelspec": {
   "display_name": "Python 3",
   "language": "python",
   "name": "python3"
  },
  "language_info": {
   "codemirror_mode": {
    "name": "ipython",
    "version": 3
   },
   "file_extension": ".py",
   "mimetype": "text/x-python",
   "name": "python",
   "nbconvert_exporter": "python",
   "pygments_lexer": "ipython3",
   "version": "3.7.1"
  }
 },
 "nbformat": 4,
 "nbformat_minor": 2
}
