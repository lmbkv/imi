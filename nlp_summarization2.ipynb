{
 "cells": [
  {
   "cell_type": "code",
   "execution_count": 36,
   "metadata": {},
   "outputs": [],
   "source": [
    "import bs4 as bs  \n",
    "import urllib.request  \n",
    "import re"
   ]
  },
  {
   "cell_type": "code",
   "execution_count": 37,
   "metadata": {},
   "outputs": [],
   "source": [
    "# scraped_data = urllib.request.urlopen('https://en.wikipedia.org/wiki/Artificial_intelligence')  \n",
    "# article = scraped_data.read()\n",
    "\n",
    "# parsed_article = bs.BeautifulSoup(article,'lxml')\n",
    "\n",
    "# paragraphs = parsed_article.find_all('p')\n",
    "\n",
    "# article_text = \"\"\n",
    "\n",
    "# for p in paragraphs:  \n",
    "#     article_text += p.text\n",
    "\n",
    "######################################################### CUSTOM TEXT ############################################\n",
    "article_text = \"\"\" Okay ; if you are reading this , you must be buying this 6s in 2018 onwards.\n",
    "So honestly , this is what I thought when I ordered it 6 months back. I have been through all the reviews and then I was so sure that yes i really should order this and , i am so happy with my choice now.\n",
    "\n",
    "Product review:\n",
    "1. Battery life: I was not sure with this thing when I bought it; but believe me this product I have is better in terms of battery life than my android (coolpad note 3). Can go 2 days with normal usage on a single go.\n",
    "2. Picture quality: It is so amazing. I have been using it for my YT videos. And I found no problem at all .\n",
    "3. Hang issue: None yet\n",
    "4. Money: I got it for 34k , when it comes to apple; they do charge a lot. But believe me with this they provides lot of good quality as well.\n",
    "And if you are reading this , you sure don’t have money issues.\n",
    "5. Apps: I didn’t pay for a single app untill the day, and forget what other says , apple is amazing .\n",
    "\n",
    "Conclusion:\n",
    "Buy this product for sure, dont worry about model ; 6s is forever. Not too expensive like x series and still have all the features. \n",
    "\n",
    "\n",
    "\n",
    "\"\"\""
   ]
  },
  {
   "cell_type": "code",
   "execution_count": 38,
   "metadata": {},
   "outputs": [],
   "source": [
    "# Removing Square Brackets and Extra Spaces\n",
    "article_text = re.sub(r'\\[[0-9]*\\]', ' ', article_text)  \n",
    "article_text = re.sub(r'\\s+', ' ', article_text)  "
   ]
  },
  {
   "cell_type": "code",
   "execution_count": 39,
   "metadata": {},
   "outputs": [],
   "source": [
    "# Removing special characters and digits\n",
    "formatted_article_text = re.sub('[^a-zA-Z]', ' ', article_text )  \n",
    "formatted_article_text = re.sub(r'\\s+', ' ', formatted_article_text)  "
   ]
  },
  {
   "cell_type": "code",
   "execution_count": 40,
   "metadata": {},
   "outputs": [
    {
     "name": "stderr",
     "output_type": "stream",
     "text": [
      "[nltk_data] Downloading package punkt to /home/aroun/nltk_data...\n",
      "[nltk_data]   Package punkt is already up-to-date!\n"
     ]
    }
   ],
   "source": [
    "import nltk\n",
    "nltk.download('punkt')\n",
    "sentence_list = nltk.sent_tokenize(article_text)  "
   ]
  },
  {
   "cell_type": "code",
   "execution_count": 41,
   "metadata": {},
   "outputs": [
    {
     "name": "stderr",
     "output_type": "stream",
     "text": [
      "[nltk_data] Downloading package stopwords to /home/aroun/nltk_data...\n",
      "[nltk_data]   Package stopwords is already up-to-date!\n"
     ]
    }
   ],
   "source": [
    "nltk.download('stopwords')\n",
    "\n",
    "stopwords = nltk.corpus.stopwords.words('english')\n",
    "\n",
    "word_frequencies = {}  \n",
    "for word in nltk.word_tokenize(formatted_article_text):  \n",
    "    if word not in stopwords:\n",
    "        if word not in word_frequencies.keys():\n",
    "            word_frequencies[word] = 1\n",
    "        else:\n",
    "            word_frequencies[word] += 1"
   ]
  },
  {
   "cell_type": "code",
   "execution_count": 42,
   "metadata": {},
   "outputs": [],
   "source": [
    "maximum_frequncy = max(word_frequencies.values())\n",
    "\n",
    "for word in word_frequencies.keys():  \n",
    "    word_frequencies[word] = (word_frequencies[word]/maximum_frequncy)"
   ]
  },
  {
   "cell_type": "code",
   "execution_count": 43,
   "metadata": {},
   "outputs": [],
   "source": [
    "sentence_scores = {}  \n",
    "for sent in sentence_list:  \n",
    "    for word in nltk.word_tokenize(sent.lower()):\n",
    "        if word in word_frequencies.keys():\n",
    "            if len(sent.split(' ')) < 30:\n",
    "                if sent not in sentence_scores.keys():\n",
    "                    sentence_scores[sent] = word_frequencies[word]\n",
    "                else:\n",
    "                    sentence_scores[sent] += word_frequencies[word]"
   ]
  },
  {
   "cell_type": "code",
   "execution_count": 44,
   "metadata": {
    "scrolled": true
   },
   "outputs": [
    {
     "name": "stdout",
     "output_type": "stream",
     "text": [
      "Faulty touchscreen of the device, contacted Amazon customer care for device replacement (as per replacement policy within 7 days against manufacturing defects). So recommend having a case around it (preferably a transparent one so that the beauty of the original phone can still be enjoyed!) No matter how much you hate the design it seems this is quite an \"IN\" thing now for almost all phone manufacturers have started copying Apple. Invest in a good case, front screen protector and a rear glass protector - Such expensive phones should come with 128GB of storage as base, instead of 64GB. - With the price of the phone, should have at least come with the fast charger in the box. 3) Additional touch id support would have been better as an alternative unlocking option Will come up with a detailed review soon in a couple of weeks. After purchasing a phone worth up to 90k, i had to do all this and still no support from Amazon.\n"
     ]
    }
   ],
   "source": [
    "import heapq  \n",
    "summary_sentences = heapq.nlargest(7, sentence_scores, key=sentence_scores.get)\n",
    "\n",
    "summary = ' '.join(summary_sentences)  \n",
    "print(summary)  "
   ]
  },
  {
   "cell_type": "code",
   "execution_count": null,
   "metadata": {},
   "outputs": [],
   "source": []
  }
 ],
 "metadata": {
  "kernelspec": {
   "display_name": "Python 3",
   "language": "python",
   "name": "python3"
  },
  "language_info": {
   "codemirror_mode": {
    "name": "ipython",
    "version": 3
   },
   "file_extension": ".py",
   "mimetype": "text/x-python",
   "name": "python",
   "nbconvert_exporter": "python",
   "pygments_lexer": "ipython3",
   "version": "3.7.1"
  }
 },
 "nbformat": 4,
 "nbformat_minor": 2
}
